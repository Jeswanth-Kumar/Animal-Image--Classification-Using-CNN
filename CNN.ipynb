{
 "cells": [
  {
   "cell_type": "markdown",
   "metadata": {},
   "source": [
    "# Importing Libraries"
   ]
  },
  {
   "cell_type": "code",
   "execution_count": 23,
   "metadata": {},
   "outputs": [],
   "source": [
    "from keras.models import Sequential"
   ]
  },
  {
   "cell_type": "code",
   "execution_count": 24,
   "metadata": {},
   "outputs": [],
   "source": [
    "from keras.layers import Conv2D,MaxPool2D,Flatten,Dense,BatchNormalization"
   ]
  },
  {
   "cell_type": "code",
   "execution_count": 25,
   "metadata": {},
   "outputs": [],
   "source": [
    "from keras import layers"
   ]
  },
  {
   "cell_type": "markdown",
   "metadata": {},
   "source": [
    "# Initializing the CNN Model"
   ]
  },
  {
   "cell_type": "code",
   "execution_count": 26,
   "metadata": {},
   "outputs": [],
   "source": [
    "model=Sequential()"
   ]
  },
  {
   "cell_type": "markdown",
   "metadata": {},
   "source": [
    "# ADD Convolution Layer"
   ]
  },
  {
   "cell_type": "code",
   "execution_count": 27,
   "metadata": {},
   "outputs": [],
   "source": [
    "model.add(Conv2D(32,(3,3),strides=(1,1),input_shape=(64,64,3),activation='relu'))"
   ]
  },
  {
   "cell_type": "code",
   "execution_count": 28,
   "metadata": {},
   "outputs": [],
   "source": [
    "model.add(MaxPool2D(pool_size=(2,2),strides=(2,2)))"
   ]
  },
  {
   "cell_type": "code",
   "execution_count": 29,
   "metadata": {},
   "outputs": [],
   "source": [
    "model.add(Conv2D(64,(3,3),strides=(1,1),activation='relu'))"
   ]
  },
  {
   "cell_type": "code",
   "execution_count": 30,
   "metadata": {},
   "outputs": [],
   "source": [
    "model.add(MaxPool2D(pool_size=(2,2),strides=(2,2)))"
   ]
  },
  {
   "cell_type": "code",
   "execution_count": 31,
   "metadata": {},
   "outputs": [],
   "source": [
    "model.add(Flatten())"
   ]
  },
  {
   "cell_type": "markdown",
   "metadata": {},
   "source": [
    "# ADD Hidden Layer"
   ]
  },
  {
   "cell_type": "code",
   "execution_count": 32,
   "metadata": {},
   "outputs": [],
   "source": [
    "model.add(Dense(kernel_initializer='random_uniform',activation='relu',units=250))"
   ]
  },
  {
   "cell_type": "markdown",
   "metadata": {},
   "source": [
    "# ADD Output Layer"
   ]
  },
  {
   "cell_type": "code",
   "execution_count": 33,
   "metadata": {},
   "outputs": [],
   "source": [
    "model.add(Dense(kernel_initializer='random_uniform',activation='sigmoid',units=1))"
   ]
  },
  {
   "cell_type": "markdown",
   "metadata": {},
   "source": [
    "# Compile the NN Model"
   ]
  },
  {
   "cell_type": "code",
   "execution_count": 34,
   "metadata": {},
   "outputs": [],
   "source": [
    "model.compile(loss='binary_crossentropy',optimizer='adam',metrics=['accuracy'])"
   ]
  },
  {
   "cell_type": "code",
   "execution_count": 35,
   "metadata": {},
   "outputs": [
    {
     "name": "stdout",
     "output_type": "stream",
     "text": [
      "Model: \"sequential_1\"\n",
      "_________________________________________________________________\n",
      "Layer (type)                 Output Shape              Param #   \n",
      "=================================================================\n",
      "conv2d_4 (Conv2D)            (None, 62, 62, 32)        896       \n",
      "_________________________________________________________________\n",
      "max_pooling2d_2 (MaxPooling2 (None, 31, 31, 32)        0         \n",
      "_________________________________________________________________\n",
      "conv2d_5 (Conv2D)            (None, 29, 29, 64)        18496     \n",
      "_________________________________________________________________\n",
      "max_pooling2d_3 (MaxPooling2 (None, 14, 14, 64)        0         \n",
      "_________________________________________________________________\n",
      "flatten_1 (Flatten)          (None, 12544)             0         \n",
      "_________________________________________________________________\n",
      "dense_2 (Dense)              (None, 250)               3136250   \n",
      "_________________________________________________________________\n",
      "dense_3 (Dense)              (None, 1)                 251       \n",
      "=================================================================\n",
      "Total params: 3,155,893\n",
      "Trainable params: 3,155,893\n",
      "Non-trainable params: 0\n",
      "_________________________________________________________________\n"
     ]
    }
   ],
   "source": [
    "model.summary()"
   ]
  },
  {
   "cell_type": "code",
   "execution_count": 36,
   "metadata": {},
   "outputs": [],
   "source": [
    "from keras.preprocessing.image import ImageDataGenerator"
   ]
  },
  {
   "cell_type": "markdown",
   "metadata": {},
   "source": [
    "# Data Augumentation"
   ]
  },
  {
   "cell_type": "code",
   "execution_count": 37,
   "metadata": {},
   "outputs": [],
   "source": [
    "train_datagen= ImageDataGenerator(\n",
    "rescale=1./255,\n",
    "shear_range=0.2,\n",
    "zoom_range=0.2,\n",
    "horizontal_flip=True)"
   ]
  },
  {
   "cell_type": "code",
   "execution_count": 38,
   "metadata": {},
   "outputs": [],
   "source": [
    "test_datagen=ImageDataGenerator(rescale=1./255)"
   ]
  },
  {
   "cell_type": "code",
   "execution_count": 39,
   "metadata": {},
   "outputs": [
    {
     "name": "stdout",
     "output_type": "stream",
     "text": [
      "Found 8005 images belonging to 2 classes.\n"
     ]
    }
   ],
   "source": [
    "x_train=train_datagen.flow_from_directory(r'C:\\Users\\Arun\\Desktop\\DATA SCIENCE\\MY PROJECTS\\New folder\\training_set\\training_set'\n",
    "                                          ,target_size=(64,64),class_mode='binary',\n",
    "                                          color_mode='rgb',batch_size=32)"
   ]
  },
  {
   "cell_type": "code",
   "execution_count": 40,
   "metadata": {},
   "outputs": [
    {
     "name": "stdout",
     "output_type": "stream",
     "text": [
      "Found 2023 images belonging to 2 classes.\n"
     ]
    }
   ],
   "source": [
    "x_test=test_datagen.flow_from_directory(r'C:\\Users\\Arun\\Desktop\\DATA SCIENCE\\MY PROJECTS\\New folder\\test_set\\test_set',\n",
    "                                        target_size=(64,64),class_mode='binary',\n",
    "                                          color_mode='rgb',batch_size=32)"
   ]
  },
  {
   "cell_type": "code",
   "execution_count": 41,
   "metadata": {},
   "outputs": [
    {
     "data": {
      "text/plain": [
       "{'cats': 0, 'dogs': 1}"
      ]
     },
     "execution_count": 41,
     "metadata": {},
     "output_type": "execute_result"
    }
   ],
   "source": [
    "x_train.class_indices"
   ]
  },
  {
   "cell_type": "markdown",
   "metadata": {},
   "source": [
    "# Train the Model"
   ]
  },
  {
   "cell_type": "code",
   "execution_count": 42,
   "metadata": {},
   "outputs": [
    {
     "name": "stdout",
     "output_type": "stream",
     "text": [
      "Epoch 1/20\n",
      "251/251 [==============================] - 50s 200ms/step - loss: 0.6607 - accuracy: 0.5948 - val_loss: 0.5890 - val_accuracy: 0.7019\n",
      "Epoch 2/20\n",
      "251/251 [==============================] - 48s 191ms/step - loss: 0.5767 - accuracy: 0.6962 - val_loss: 0.5599 - val_accuracy: 0.7059\n",
      "Epoch 3/20\n",
      "251/251 [==============================] - 49s 193ms/step - loss: 0.5392 - accuracy: 0.7240 - val_loss: 0.5574 - val_accuracy: 0.7217\n",
      "Epoch 4/20\n",
      "251/251 [==============================] - 49s 194ms/step - loss: 0.5125 - accuracy: 0.7420 - val_loss: 0.5372 - val_accuracy: 0.7326\n",
      "Epoch 5/20\n",
      "251/251 [==============================] - 49s 195ms/step - loss: 0.4862 - accuracy: 0.7658 - val_loss: 0.4863 - val_accuracy: 0.7736\n",
      "Epoch 6/20\n",
      "251/251 [==============================] - 49s 196ms/step - loss: 0.4629 - accuracy: 0.7775 - val_loss: 0.4970 - val_accuracy: 0.7627\n",
      "Epoch 7/20\n",
      "251/251 [==============================] - 50s 200ms/step - loss: 0.4416 - accuracy: 0.7913 - val_loss: 0.4646 - val_accuracy: 0.7845\n",
      "Epoch 8/20\n",
      "251/251 [==============================] - 49s 196ms/step - loss: 0.4269 - accuracy: 0.8037 - val_loss: 0.4915 - val_accuracy: 0.7692\n",
      "Epoch 9/20\n",
      "251/251 [==============================] - 50s 198ms/step - loss: 0.4031 - accuracy: 0.8139 - val_loss: 0.4862 - val_accuracy: 0.7845\n",
      "Epoch 10/20\n",
      "251/251 [==============================] - 51s 204ms/step - loss: 0.3902 - accuracy: 0.8181 - val_loss: 0.4496 - val_accuracy: 0.7924\n",
      "Epoch 11/20\n",
      "251/251 [==============================] - 50s 199ms/step - loss: 0.3673 - accuracy: 0.8299 - val_loss: 0.4632 - val_accuracy: 0.8062\n",
      "Epoch 12/20\n",
      "251/251 [==============================] - 50s 199ms/step - loss: 0.3544 - accuracy: 0.8382 - val_loss: 0.4489 - val_accuracy: 0.8107\n",
      "Epoch 13/20\n",
      "251/251 [==============================] - 50s 200ms/step - loss: 0.3341 - accuracy: 0.8523 - val_loss: 0.4965 - val_accuracy: 0.7914\n",
      "Epoch 14/20\n",
      "251/251 [==============================] - 50s 201ms/step - loss: 0.3171 - accuracy: 0.8587 - val_loss: 0.4707 - val_accuracy: 0.8112\n",
      "Epoch 15/20\n",
      "251/251 [==============================] - 50s 199ms/step - loss: 0.3006 - accuracy: 0.8686 - val_loss: 0.5108 - val_accuracy: 0.7810\n",
      "Epoch 16/20\n",
      "251/251 [==============================] - 49s 195ms/step - loss: 0.2829 - accuracy: 0.8802 - val_loss: 0.4975 - val_accuracy: 0.8131\n",
      "Epoch 17/20\n",
      "251/251 [==============================] - 50s 199ms/step - loss: 0.2560 - accuracy: 0.8887 - val_loss: 0.4528 - val_accuracy: 0.8146\n",
      "Epoch 18/20\n",
      "251/251 [==============================] - 50s 197ms/step - loss: 0.2554 - accuracy: 0.8888 - val_loss: 0.5763 - val_accuracy: 0.7677\n",
      "Epoch 19/20\n",
      "251/251 [==============================] - 51s 204ms/step - loss: 0.2415 - accuracy: 0.8978 - val_loss: 0.5423 - val_accuracy: 0.8082\n",
      "Epoch 20/20\n",
      "251/251 [==============================] - 51s 202ms/step - loss: 0.2165 - accuracy: 0.9119 - val_loss: 0.5082 - val_accuracy: 0.8161\n"
     ]
    },
    {
     "data": {
      "text/plain": [
       "<tensorflow.python.keras.callbacks.History at 0x1d712ccc240>"
      ]
     },
     "execution_count": 42,
     "metadata": {},
     "output_type": "execute_result"
    }
   ],
   "source": [
    "model.fit(\n",
    "    x_train,\n",
    "    batch_size=32,\n",
    "    epochs=20,\n",
    "    validation_data=x_test,\n",
    ")"
   ]
  },
  {
   "cell_type": "code",
   "execution_count": null,
   "metadata": {},
   "outputs": [],
   "source": [
    "model.save('catvsdog.h5')"
   ]
  },
  {
   "cell_type": "code",
   "execution_count": null,
   "metadata": {},
   "outputs": [],
   "source": []
  }
 ],
 "metadata": {
  "kernelspec": {
   "display_name": "Python 3",
   "language": "python",
   "name": "python3"
  },
  "language_info": {
   "codemirror_mode": {
    "name": "ipython",
    "version": 3
   },
   "file_extension": ".py",
   "mimetype": "text/x-python",
   "name": "python",
   "nbconvert_exporter": "python",
   "pygments_lexer": "ipython3",
   "version": "3.7.3"
  }
 },
 "nbformat": 4,
 "nbformat_minor": 4
}
